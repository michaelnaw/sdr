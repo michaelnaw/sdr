{
 "cells": [
  {
   "cell_type": "markdown",
   "metadata": {},
   "source": [
    "(fsk)=\n",
    "# Frequency-shift keying"
   ]
  },
  {
   "cell_type": "code",
   "execution_count": null,
   "metadata": {},
   "outputs": [],
   "source": [
    "import matplotlib.pyplot as plt\n",
    "import numpy as np\n",
    "\n",
    "import sdr\n",
    "\n",
    "%config InlineBackend.print_figure_kwargs = {\"facecolor\" : \"w\"}\n",
    "%matplotlib inline\n",
    "# %matplotlib widget\n",
    "\n",
    "sdr.plot.use_style()"
   ]
  },
  {
   "cell_type": "markdown",
   "metadata": {},
   "source": [
    "In the {obj}`sdr` library, frequency-shift keying modulation is available in the {obj}`sdr.FSK` class."
   ]
  },
  {
   "cell_type": "code",
   "execution_count": null,
   "metadata": {},
   "outputs": [],
   "source": [
    "def analyze_fsk(fsk, ebn0):\n",
    "    # Generate random decimal symbols\n",
    "    s = np.random.randint(0, fsk.order, 10_000)\n",
    "\n",
    "    # Modulate decimal symbols to complex baseband signal\n",
    "    x = fsk.modulate(s)\n",
    "\n",
    "    # Add AWGN to achieve desired Eb/N0\n",
    "    esn0 = sdr.ebn0_to_esn0(ebn0, fsk.bps)\n",
    "    snr = sdr.esn0_to_snr(esn0, sps=fsk.sps)\n",
    "    x_hat = sdr.awgn(x, snr)\n",
    "\n",
    "    # Demodulate the noisy signal\n",
    "    s_hat = fsk.demodulate(x_hat)\n",
    "\n",
    "    # Calculate error rate\n",
    "    error_rate = np.mean(s != s_hat)\n",
    "\n",
    "    plt.figure(figsize=(12, 4))\n",
    "    plt.subplot(1, 3, 1)\n",
    "    # Show frequency mapping\n",
    "    plt.stem(range(fsk.order), fsk.freq_map, basefmt=\" \")\n",
    "    plt.xlabel(\"Symbol\")\n",
    "    plt.ylabel(\"Frequency Offset (Hz)\")\n",
    "    plt.title(f\"{fsk.order}-FSK Frequency Map\")\n",
    "    plt.grid(True)\n",
    "\n",
    "    plt.subplot(1, 3, 2)\n",
    "    # Show time domain signal for first few symbols\n",
    "    sdr.plot.time_domain(x[0:8*fsk.sps])\n",
    "    plt.title(\"Transmitted Signal\")\n",
    "\n",
    "    plt.subplot(1, 3, 3)\n",
    "    # Show spectrum\n",
    "    f, Pxx = sdr.plot.periodogram(x, sample_rate=fsk.sps, fft_size=1024)\n",
    "    plt.plot(f, Pxx)\n",
    "    plt.xlabel(\"Frequency (Hz)\")\n",
    "    plt.ylabel(\"Power Spectral Density (dB)\")\n",
    "    plt.title(\"Signal Spectrum\")\n",
    "    plt.grid(True)\n",
    "\n",
    "    plt.tight_layout()\n",
    "    plt.show()\n",
    "\n",
    "    print(f\"Symbol error rate at {ebn0} dB Eb/N0: {error_rate:.4f}\")\n",
    "    return error_rate"
   ]
  },
  {
   "cell_type": "markdown",
   "metadata": {},
   "source": [
    "## FSK Modulation Examples"
   ]
  },
  {
   "cell_type": "markdown",
   "metadata": {},
   "source": [
    "### Binary FSK (BFSK)"
   ]
  },
  {
   "cell_type": "code",
   "execution_count": null,
   "metadata": {},
   "outputs": [],
   "source": [
    "bfsk = sdr.FSK(2, freq_sep=1000, sps=16)\n",
    "print(bfsk)\n",
    "analyze_fsk(bfsk, 10)"
   ]
  },
  {
   "cell_type": "markdown",
   "metadata": {},
   "source": [
    "### 4-FSK"
   ]
  },
  {
   "cell_type": "code",
   "execution_count": null,
   "metadata": {},
   "outputs": [],
   "source": [
    "fsk4 = sdr.FSK(4, freq_sep=500, sps=16)\n",
    "print(fsk4)\n",
    "analyze_fsk(fsk4, 12)"
   ]
  },
  {
   "cell_type": "markdown",
   "metadata": {},
   "source": [
    "### 8-FSK"
   ]
  },
  {
   "cell_type": "code",
   "execution_count": null,
   "metadata": {},
   "outputs": [],
   "source": [
    "fsk8 = sdr.FSK(8, freq_sep=250, sps=16)\n",
    "print(fsk8)\n",
    "analyze_fsk(fsk8, 15)"
   ]
  },
  {
   "cell_type": "markdown",
   "metadata": {},
   "source": [
    "### 16-FSK"
   ]
  },
  {
   "cell_type": "code",
   "execution_count": null,
   "metadata": {},
   "outputs": [],
   "source": [
    "fsk16 = sdr.FSK(16, freq_sep=125, sps=16)\n",
    "print(fsk16)\n",
    "analyze_fsk(fsk16, 18)"
   ]
  },
  {
   "cell_type": "markdown",
   "metadata": {},
   "source": [
    "## Error Rate Performance"
   ]
  },
  {
   "cell_type": "code",
   "execution_count": null,
   "metadata": {},
   "outputs": [],
   "source": [
    "def simulate_error_rates(fsk, ebn0_range, num_symbols=100_000):\n",
    "    \"\"\"\n",
    "    Simulate bit and symbol error rates for FSK modulation.\n",
    "    \"\"\"\n",
    "    ber_sim = []\n",
    "    ser_sim = []\n",
    "    \n",
    "    for ebn0 in ebn0_range:\n",
    "        # Generate random symbols\n",
    "        s = np.random.randint(0, fsk.order, num_symbols)\n",
    "        \n",
    "        # Modulate\n",
    "        x = fsk.modulate(s)\n",
    "        \n",
    "        # Add AWGN\n",
    "        esn0 = sdr.ebn0_to_esn0(ebn0, fsk.bps)\n",
    "        snr = sdr.esn0_to_snr(esn0, sps=fsk.sps)\n",
    "        x_noisy = sdr.awgn(x, snr)\n",
    "        \n",
    "        # Demodulate\n",
    "        s_hat = fsk.demodulate(x_noisy)\n",
    "        \n",
    "        # Calculate symbol errors\n",
    "        symbol_errors = np.sum(s != s_hat)\n",
    "        ser = symbol_errors / num_symbols\n",
    "        ser_sim.append(ser)\n",
    "        \n",
    "        # Calculate bit errors (assuming Gray coding)\n",
    "        s_bits = sdr.unpack(s, fsk.bps)\n",
    "        s_hat_bits = sdr.unpack(s_hat, fsk.bps)\n",
    "        bit_errors = np.sum(s_bits != s_hat_bits)\n",
    "        ber = bit_errors / (num_symbols * fsk.bps)\n",
    "        ber_sim.append(ber)\n",
    "    \n",
    "    return np.array(ber_sim), np.array(ser_sim)"
   ]
  },
  {
   "cell_type": "code",
   "execution_count": null,
   "metadata": {},
   "outputs": [],
   "source": [
    "# Define Eb/N0 range for simulation\n",
    "ebn0_sim = np.arange(0, 16, 2)  # Reduced range and points for faster computation\n",
    "\n",
    "# Simulate error rates (reduced number of symbols for faster computation)\n",
    "print(\"Simulating BFSK...\")\n",
    "bfsk_ber_sim, bfsk_ser_sim = simulate_error_rates(bfsk, ebn0_sim, 10_000)\n",
    "\n",
    "print(\"Simulating 4-FSK...\")\n",
    "fsk4_ber_sim, fsk4_ser_sim = simulate_error_rates(fsk4, ebn0_sim, 10_000)\n",
    "\n",
    "print(\"Simulating 8-FSK...\")\n",
    "fsk8_ber_sim, fsk8_ser_sim = simulate_error_rates(fsk8, ebn0_sim, 10_000)\n",
    "\n",
    "print(\"Done!\")"
   ]
  },
  {
   "cell_type": "markdown",
   "metadata": {},
   "source": [
    "### Bit Error Rate Curves"
   ]
  },
  {
   "cell_type": "code",
   "execution_count": null,
   "metadata": {},
   "outputs": [],
   "source": [
    "plt.figure(figsize=(10, 6))\n",
    "\n",
    "# Theoretical curves\n",
    "ebn0_theory = np.linspace(0, 15, 100)\n",
    "sdr.plot.ber(ebn0_theory, bfsk.ber(ebn0_theory), label=\"BFSK theoretical\")\n",
    "sdr.plot.ber(ebn0_theory, fsk4.ber(ebn0_theory), label=\"4-FSK theoretical\")\n",
    "sdr.plot.ber(ebn0_theory, fsk8.ber(ebn0_theory), label=\"8-FSK theoretical\")\n",
    "\n",
    "# Simulated points\n",
    "plt.gca().set_prop_cycle(None)\n",
    "sdr.plot.ber(ebn0_sim, bfsk_ber_sim, linestyle=\"none\", marker=\"o\", label=\"BFSK simulated\")\n",
    "sdr.plot.ber(ebn0_sim, fsk4_ber_sim, linestyle=\"none\", marker=\"s\", label=\"4-FSK simulated\")\n",
    "sdr.plot.ber(ebn0_sim, fsk8_ber_sim, linestyle=\"none\", marker=\"^\", label=\"8-FSK simulated\")\n",
    "\n",
    "plt.ylim(1e-5, 1e0)\n",
    "plt.title(\"Bit Error Rate Curves for FSK Modulation in AWGN\")\n",
    "plt.legend()\n",
    "plt.grid(True)\n",
    "plt.show()"
   ]
  },
  {
   "cell_type": "markdown",
   "metadata": {},
   "source": [
    "### Symbol Error Rate Curves"
   ]
  },
  {
   "cell_type": "code",
   "execution_count": null,
   "metadata": {},
   "outputs": [],
   "source": [
    "plt.figure(figsize=(10, 6))\n",
    "\n",
    "# Theoretical curves\n",
    "esn0_theory = np.linspace(0, 20, 100)\n",
    "sdr.plot.ser(esn0_theory, bfsk.ser(esn0_theory), label=\"BFSK theoretical\")\n",
    "sdr.plot.ser(esn0_theory, fsk4.ser(esn0_theory), label=\"4-FSK theoretical\")\n",
    "sdr.plot.ser(esn0_theory, fsk8.ser(esn0_theory), label=\"8-FSK theoretical\")\n",
    "\n",
    "# Convert Eb/N0 to Es/N0 for simulated data\n",
    "esn0_sim_bfsk = sdr.ebn0_to_esn0(ebn0_sim, bfsk.bps)\n",
    "esn0_sim_fsk4 = sdr.ebn0_to_esn0(ebn0_sim, fsk4.bps)\n",
    "esn0_sim_fsk8 = sdr.ebn0_to_esn0(ebn0_sim, fsk8.bps)\n",
    "\n",
    "# Simulated points\n",
    "plt.gca().set_prop_cycle(None)\n",
    "sdr.plot.ser(esn0_sim_bfsk, bfsk_ser_sim, linestyle=\"none\", marker=\"o\", label=\"BFSK simulated\")\n",
    "sdr.plot.ser(esn0_sim_fsk4, fsk4_ser_sim, linestyle=\"none\", marker=\"s\", label=\"4-FSK simulated\")\n",
    "sdr.plot.ser(esn0_sim_fsk8, fsk8_ser_sim, linestyle=\"none\", marker=\"^\", label=\"8-FSK simulated\")\n",
    "\n",
    "plt.ylim(1e-5, 1e0)\n",
    "plt.title(\"Symbol Error Rate Curves for FSK Modulation in AWGN\")\n",
    "plt.legend()\n",
    "plt.grid(True)\n",
    "plt.show()"
   ]
  },
  {
   "cell_type": "markdown",
   "metadata": {},
   "source": [
    "## Symbol Mapping"
   ]
  },
  {
   "cell_type": "markdown",
   "metadata": {},
   "source": [
    "FSK supports both binary and Gray coding for symbol mapping. Gray coding minimizes bit errors when adjacent symbols are confused."
   ]
  },
  {
   "cell_type": "code",
   "execution_count": null,
   "metadata": {},
   "outputs": [],
   "source": [
    "# Create 8-FSK with different symbol mappings\n",
    "fsk8_bin = sdr.FSK(8, freq_sep=250, symbol_labels=\"bin\")\n",
    "fsk8_gray = sdr.FSK(8, freq_sep=250, symbol_labels=\"gray\")\n",
    "\n",
    "plt.figure(figsize=(12, 4))\n",
    "\n",
    "plt.subplot(1, 2, 1)\n",
    "plt.stem(range(8), fsk8_bin.symbol_map, basefmt=\" \")\n",
    "plt.xlabel(\"Frequency Index\")\n",
    "plt.ylabel(\"Symbol Value\")\n",
    "plt.title(\"8-FSK with Binary Coding\")\n",
    "plt.grid(True)\n",
    "\n",
    "plt.subplot(1, 2, 2)\n",
    "plt.stem(range(8), fsk8_gray.symbol_map, basefmt=\" \")\n",
    "plt.xlabel(\"Frequency Index\")\n",
    "plt.ylabel(\"Symbol Value\")\n",
    "plt.title(\"8-FSK with Gray Coding\")\n",
    "plt.grid(True)\n",
    "\n",
    "plt.tight_layout()\n",
    "plt.show()\n",
    "\n",
    "print(\"Binary coding:\", fsk8_bin.symbol_map)\n",
    "print(\"Gray coding:  \", fsk8_gray.symbol_map)"
   ]
  },
  {
   "cell_type": "markdown",
   "metadata": {},
   "source": [
    "Gray coding provides better bit error rate performance because adjacent frequency bins differ by only one bit."
   ]
  },
  {
   "cell_type": "code",
   "execution_count": null,
   "metadata": {},
   "outputs": [],
   "source": [
    "plt.figure(figsize=(10, 6))\n",
    "\n",
    "ebn0_theory = np.linspace(8, 18, 100)\n",
    "sdr.plot.ber(ebn0_theory, fsk8_bin.ber(ebn0_theory), label=\"8-FSK w/ binary coding\")\n",
    "sdr.plot.ber(ebn0_theory, fsk8_gray.ber(ebn0_theory), label=\"8-FSK w/ Gray coding\")\n",
    "\n",
    "plt.ylim(1e-4, 1e-1)\n",
    "plt.title(\"Bit Error Rate Comparison: Binary vs Gray Coding\")\n",
    "plt.legend()\n",
    "plt.grid(True)\n",
    "plt.show()"
   ]
  },
  {
   "cell_type": "markdown",
   "metadata": {},
   "source": [
    "## Frequency Separation Effects"
   ]
  },
  {
   "cell_type": "markdown",
   "metadata": {},
   "source": [
    "The frequency separation between FSK tones affects the orthogonality and performance of the modulation."
   ]
  },
  {
   "cell_type": "code",
   "execution_count": null,
   "metadata": {},
   "outputs": [],
   "source": [
    "# Create BFSK with different frequency separations\n",
    "freq_seps = [500, 1000, 2000, 4000]\n",
    "\n",
    "plt.figure(figsize=(12, 8))\n",
    "\n",
    "for i, fs in enumerate(freq_seps):\n",
    "    bfsk_test = sdr.FSK(2, freq_sep=fs, sps=32)\n",
    "    \n",
    "    # Generate test signal\n",
    "    symbols = np.array([0, 1, 0, 1] * 4)\n",
    "    signal = bfsk_test.modulate(symbols)\n",
    "    \n",
    "    plt.subplot(2, 2, i+1)\n",
    "    # Show spectrum\n",
    "    f, Pxx = sdr.plot.periodogram(signal, sample_rate=bfsk_test.sps, fft_size=2048)\n",
    "    plt.plot(f, Pxx)\n",
    "    plt.xlabel(\"Frequency (Hz)\")\n",
    "    plt.ylabel(\"Power (dB)\")\n",
    "    plt.title(f\"BFSK Spectrum, Δf = {fs} Hz\")\n",
    "    plt.grid(True)\n",
    "    \n",
    "    # Mark the two FSK frequencies\n",
    "    plt.axvline(bfsk_test.freq_map[0], color='red', linestyle='--', alpha=0.7, label='f0')\n",
    "    plt.axvline(bfsk_test.freq_map[1], color='red', linestyle='--', alpha=0.7, label='f1')\n",
    "    plt.legend()\n",
    "\n",
    "plt.tight_layout()\n",
    "plt.show()"
   ]
  },
  {
   "cell_type": "markdown",
   "metadata": {},
   "source": [
    "Larger frequency separations provide better separation between the tones but require more bandwidth."
   ]
  }\n",
 ],\n",
 "metadata": {\n",
  \"kernelspec\": {\n",
   \"display_name\": \"Python 3\",\n",
   \"language\": \"python\",\n",
   \"name\": \"python3\"\n,
   \"pygments_lexer\": \"ipython3\",\n",
   \"version\": \"3.8.5\"\n,
  \"language_info\": {\n,
   \"name\": \"python\",\n   \"version\": \"3.8.5\"\n  }\n }\n}